{
 "cells": [
  {
   "cell_type": "code",
   "execution_count": 1,
   "id": "fb35a52c",
   "metadata": {},
   "outputs": [],
   "source": [
    "import cv2"
   ]
  },
  {
   "cell_type": "code",
   "execution_count": null,
   "id": "37f84ee0",
   "metadata": {},
   "outputs": [
    {
     "ename": "error",
     "evalue": "OpenCV(4.9.0) :-1: error: (-5:Bad argument) in function 'VideoWriter'\n> Overload resolution failed:\n>  - Can't parse 'frameSize'. Sequence item with index 0 has a wrong type\n>  - VideoWriter() missing required argument 'frameSize' (pos 5)\n>  - VideoWriter() missing required argument 'params' (pos 5)\n>  - VideoWriter() missing required argument 'frameSize' (pos 5)\n",
     "output_type": "error",
     "traceback": [
      "\u001b[31m---------------------------------------------------------------------------\u001b[39m",
      "\u001b[31merror\u001b[39m                                     Traceback (most recent call last)",
      "\u001b[36mCell\u001b[39m\u001b[36m \u001b[39m\u001b[32mIn[2]\u001b[39m\u001b[32m, line 3\u001b[39m\n\u001b[32m      1\u001b[39m inp = cv2.VideoCapture(\u001b[33m\"\u001b[39m\u001b[33m../Videos/game_5.mp4\u001b[39m\u001b[33m\"\u001b[39m)\n\u001b[32m      2\u001b[39m end_frame = \u001b[32m5000\u001b[39m\n\u001b[32m----> \u001b[39m\u001b[32m3\u001b[39m writer = \u001b[43mcv2\u001b[49m\u001b[43m.\u001b[49m\u001b[43mVideoWriter\u001b[49m\u001b[43m(\u001b[49m\u001b[33;43m'\u001b[39;49m\u001b[33;43m../Videos/game_5_segment.mp4\u001b[39;49m\u001b[33;43m'\u001b[39;49m\u001b[43m,\u001b[49m\u001b[43m \u001b[49m\u001b[43mcv2\u001b[49m\u001b[43m.\u001b[49m\u001b[43mVideoWriter_fourcc\u001b[49m\u001b[43m(\u001b[49m\u001b[43m*\u001b[49m\u001b[33;43m'\u001b[39;49m\u001b[33;43mmp4v\u001b[39;49m\u001b[33;43m'\u001b[39;49m\u001b[43m)\u001b[49m\u001b[43m,\u001b[49m\u001b[43m \u001b[49m\u001b[32;43m30\u001b[39;49m\u001b[43m,\u001b[49m\u001b[43m \u001b[49m\u001b[43m(\u001b[49m\u001b[43minp\u001b[49m\u001b[43m.\u001b[49m\u001b[43mget\u001b[49m\u001b[43m(\u001b[49m\u001b[32;43m3\u001b[39;49m\u001b[43m)\u001b[49m\u001b[43m,\u001b[49m\u001b[43m \u001b[49m\u001b[43minp\u001b[49m\u001b[43m.\u001b[49m\u001b[43mget\u001b[49m\u001b[43m(\u001b[49m\u001b[32;43m4\u001b[39;49m\u001b[43m)\u001b[49m\u001b[43m)\u001b[49m\u001b[43m)\u001b[49m\n\u001b[32m      4\u001b[39m \u001b[38;5;28;01mfor\u001b[39;00m i \u001b[38;5;129;01min\u001b[39;00m \u001b[38;5;28mrange\u001b[39m(end_frame):\n\u001b[32m      5\u001b[39m     ret, frame = inp.read()\n",
      "\u001b[31merror\u001b[39m: OpenCV(4.9.0) :-1: error: (-5:Bad argument) in function 'VideoWriter'\n> Overload resolution failed:\n>  - Can't parse 'frameSize'. Sequence item with index 0 has a wrong type\n>  - VideoWriter() missing required argument 'frameSize' (pos 5)\n>  - VideoWriter() missing required argument 'params' (pos 5)\n>  - VideoWriter() missing required argument 'frameSize' (pos 5)\n"
     ]
    }
   ],
   "source": [
    "inp = cv2.VideoCapture(\"../Videos/game_5.mp4\")\n",
    "end_frame = 5000\n",
    "writer = cv2.VideoWriter('../Videos/game_5_segment.mp4', cv2.VideoWriter_fourcc(*'mp4v'), 30, inp.get(3), inp.get(4))\n",
    "for i in range(end_frame):\n",
    "    ret, frame = inp.read()\n",
    "    writer.write(frame)\n",
    "writer.release()\n",
    "inp.release()"
   ]
  }
 ],
 "metadata": {
  "kernelspec": {
   "display_name": "Python 3",
   "language": "python",
   "name": "python3"
  },
  "language_info": {
   "codemirror_mode": {
    "name": "ipython",
    "version": 3
   },
   "file_extension": ".py",
   "mimetype": "text/x-python",
   "name": "python",
   "nbconvert_exporter": "python",
   "pygments_lexer": "ipython3",
   "version": "3.11.1"
  }
 },
 "nbformat": 4,
 "nbformat_minor": 5
}
