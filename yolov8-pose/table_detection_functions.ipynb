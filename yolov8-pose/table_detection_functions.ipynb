{
 "cells": [
  {
   "cell_type": "markdown",
   "id": "da78b18b",
   "metadata": {},
   "source": [
    "### Code to find Table coordinates based on yolo"
   ]
  },
  {
   "cell_type": "code",
   "execution_count": null,
   "id": "3e92575c",
   "metadata": {},
   "outputs": [],
   "source": [
    "import cv2\n",
    "import numpy as np\n",
    "from ultralytics import YOLO"
   ]
  },
  {
   "cell_type": "code",
   "execution_count": null,
   "id": "ac70989e",
   "metadata": {},
   "outputs": [],
   "source": [
    "def yolo_on_video(model, video, start_frame, end_frame):\n",
    "    cap = cv2.VideoCapture(video)\n",
    "    cap.set(cv2.CAP_PROP_POS_FRAMES, start_frame)\n",
    "\n",
    "    frame_num = start_frame\n",
    "    all_results = []\n",
    "    while True:\n",
    "        ret, frame = cap.read()\n",
    "        if not ret or frame_num > end_frame:\n",
    "            break\n",
    "\n",
    "        # Run YOLO inference\n",
    "        results = model(frame, stream=True, device=\"cuda\")\n",
    "\n",
    "        for r in results:\n",
    "            all_results.append(r)\n",
    "            annotated_frame = r.plot()\n",
    "            cv2.imshow(\"YOLO Pose - Full\", annotated_frame)\n",
    "\n",
    "            keypoints = r.keypoints.cpu().numpy()  # (num_instances, num_keypoints, 3)\n",
    "            if len(keypoints) > 0:\n",
    "                table_corners = keypoints[0][:, :2]  # first instance, all keypoints, x,y only\n",
    "                print(f\"Frame {frame_num}: Table corners (normalized): {table_corners}\")\n",
    "\n",
    "        frame_num += 1\n",
    "\n",
    "        # Exit on 'q'\n",
    "        if cv2.waitKey(1) & 0xFF == ord(\"q\"):\n",
    "            break\n",
    "\n",
    "    cap.release()\n",
    "    cv2.destroyAllWindows()\n",
    "    return all_results\n"
   ]
  },
  {
   "cell_type": "code",
   "execution_count": null,
   "id": "27539536",
   "metadata": {},
   "outputs": [],
   "source": [
    "def average_results(results):\n",
    "    if len(results) == 0:\n",
    "        print(\"No results to average\")\n",
    "        return None\n",
    "\n",
    "    sum_corners = np.zeros((4, 2), dtype=np.float32)\n",
    "    count = 0\n",
    "\n",
    "    for r in results:\n",
    "        keypoints = r.keypoints.cpu().numpy()\n",
    "        table_corners = None\n",
    "\n",
    "        # Case 1: use keypoints if available\n",
    "        if len(keypoints) > 0:\n",
    "            candidate = keypoints[0][:, :2]   # take first detection (x, y only)\n",
    "            if candidate.shape == (4, 2):\n",
    "                table_corners = candidate\n",
    "\n",
    "        # Case 2: fallback to bounding box\n",
    "        if table_corners is None:\n",
    "            if hasattr(r, \"boxes\") and len(r.boxes) > 0:\n",
    "                box = r.boxes[0].xyxy.cpu().numpy()[0]  # (x1, y1, x2, y2)\n",
    "                x1, y1, x2, y2 = box\n",
    "                table_corners = np.array([\n",
    "                    [x1, y1],  # top-left\n",
    "                    [x2, y1],  # top-right\n",
    "                    [x2, y2],  # bottom-right\n",
    "                    [x1, y2],  # bottom-left\n",
    "                ], dtype=np.float32)\n",
    "\n",
    "        # Add if we have valid corners\n",
    "        if table_corners is not None and table_corners.shape == (4, 2):\n",
    "            sum_corners += table_corners\n",
    "            count += 1\n",
    "\n",
    "    if count == 0:\n",
    "        return None\n",
    "\n",
    "    avg_corners = sum_corners / count\n",
    "    return avg_corners\n"
   ]
  },
  {
   "cell_type": "code",
   "execution_count": null,
   "id": "66e81db3",
   "metadata": {},
   "outputs": [],
   "source": [
    "def annotate_frame_with_table(frame, table_corners):\n",
    "    if table_corners is None:\n",
    "        return frame  # nothing to draw\n",
    "    \n",
    "    # Convert to integer pixel coordinates\n",
    "    pts = np.int32(table_corners).reshape((-1, 1, 2))\n",
    "\n",
    "    annotated = frame.copy()\n",
    "    cv2.polylines(annotated, [pts], isClosed=True, color=(0, 255, 0), thickness=3)\n",
    "\n",
    "    return annotated\n"
   ]
  },
  {
   "cell_type": "code",
   "execution_count": null,
   "id": "3f211bb8",
   "metadata": {},
   "outputs": [],
   "source": [
    "model_path = \"runs/pose/train5/weights/best.pt\"\n",
    "video_path = \"../Videos/game_1.mp4\"\n",
    "\n",
    "model = YOLO(model_path)  # load an official model\n",
    "start_frame = 0\n",
    "end_frame = 2000\n",
    "results = yolo_on_video(model, video_path, start_frame, end_frame)\n",
    "avg_corners = average_results(results)\n",
    "print(f\"Average Table corners (normalized): {avg_corners}\")\n",
    "if avg_corners is not None:\n",
    "    print(\"Corners being drawn:\", avg_corners)\n",
    "    cap = cv2.VideoCapture(video_path)\n",
    "    cap.set(cv2.CAP_PROP_POS_FRAMES, start_frame)\n",
    "    ret, frame = cap.read()\n",
    "    if ret:\n",
    "        annotated = annotate_frame_with_table(frame, avg_corners)\n",
    "        cv2.imshow(\"Average Table Position\", annotated)\n",
    "        cv2.waitKey(0)\n",
    "    cap.release()\n",
    "    cv2.destroyAllWindows()\n",
    "else:\n",
    "    print(\"No valid table corners detected in any frame.\")"
   ]
  }
 ],
 "metadata": {
  "kernelspec": {
   "display_name": "Python 3",
   "language": "python",
   "name": "python3"
  },
  "language_info": {
   "name": "python",
   "version": "3.11.1"
  }
 },
 "nbformat": 4,
 "nbformat_minor": 5
}
