{
 "cells": [
  {
   "cell_type": "markdown",
   "id": "321ff49c",
   "metadata": {},
   "source": [
    "### CSV Processing"
   ]
  },
  {
   "cell_type": "code",
   "execution_count": 3,
   "id": "d84d8950",
   "metadata": {},
   "outputs": [],
   "source": [
    "import csv\n",
    "import pandas as pd"
   ]
  },
  {
   "cell_type": "code",
   "execution_count": 14,
   "id": "d2f971e7",
   "metadata": {},
   "outputs": [
    {
     "name": "stdout",
     "output_type": "stream",
     "text": [
      "   track_id  frame_index            x           y\n",
      "0         1            0  1686.906555  648.031403\n",
      "1         2            0   219.857513  509.304047\n",
      "2         3            0   943.050476  454.077789\n",
      "3         1            1  1685.248596  653.207428\n",
      "4         2            1   222.401657  512.956512\n"
     ]
    }
   ],
   "source": [
    "kp_df = pd.read_csv(\"outputs/track_keypoints.csv\")\n",
    "print(kp_df.head())"
   ]
  },
  {
   "cell_type": "code",
   "execution_count": 15,
   "id": "a41ec271",
   "metadata": {},
   "outputs": [
    {
     "name": "stdout",
     "output_type": "stream",
     "text": [
      "0    1\n",
      "Name: track_id, dtype: int64\n"
     ]
    }
   ],
   "source": [
    "print(kp_df['track_id'].mode())"
   ]
  },
  {
   "cell_type": "code",
   "execution_count": 16,
   "id": "e69a0581",
   "metadata": {},
   "outputs": [
    {
     "name": "stdout",
     "output_type": "stream",
     "text": [
      "track_id\n",
      "1     4185\n",
      "7     1642\n",
      "3     1408\n",
      "27     827\n",
      "12     601\n",
      "15     595\n",
      "14     582\n",
      "5      580\n",
      "29     568\n",
      "2      146\n",
      "23      35\n",
      "41      19\n",
      "39      16\n",
      "17      13\n",
      "30       6\n",
      "26       5\n",
      "34       1\n",
      "Name: count, dtype: int64\n"
     ]
    }
   ],
   "source": [
    "print(kp_df['track_id'].value_counts())"
   ]
  }
 ],
 "metadata": {
  "kernelspec": {
   "display_name": "Python 3",
   "language": "python",
   "name": "python3"
  },
  "language_info": {
   "codemirror_mode": {
    "name": "ipython",
    "version": 3
   },
   "file_extension": ".py",
   "mimetype": "text/x-python",
   "name": "python",
   "nbconvert_exporter": "python",
   "pygments_lexer": "ipython3",
   "version": "3.11.1"
  }
 },
 "nbformat": 4,
 "nbformat_minor": 5
}
