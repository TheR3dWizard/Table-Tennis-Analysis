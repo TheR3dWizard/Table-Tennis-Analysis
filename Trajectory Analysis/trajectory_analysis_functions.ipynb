{
 "cells": [
  {
   "cell_type": "markdown",
   "id": "f00dea93",
   "metadata": {},
   "source": [
    "# Ball Landing Segments"
   ]
  },
  {
   "cell_type": "code",
   "execution_count": 32,
   "id": "4141ec14",
   "metadata": {},
   "outputs": [],
   "source": [
    "segments = [0.0,0.1,0.4,0.5,0.6,0.9,1.0]\n",
    "segment_names=['end','long','mid','short','short','mid','long','end']\n",
    "model_corners = [[353.24, 494.26], [353.24, 679.19], [1431.2, 679.19], [1431.2, 494.26]]\n",
    "actual_corners = [[509, 525], [303, 644], [1437, 664], [1293, 539]]\n",
    "\n",
    "ballx = 1125\n",
    "bally = 589"
   ]
  },
  {
   "cell_type": "code",
   "execution_count": 50,
   "id": "a9ea63e9",
   "metadata": {},
   "outputs": [],
   "source": [
    "def get_longer_edge(corners):\n",
    "    edge1 = corners[3][0]-corners[0][0]\n",
    "    edge2 = corners[2][0]-corners[1][0]\n",
    "    if abs(edge1) > abs(edge2):\n",
    "        return (abs(edge1),corners[0],corners[3])\n",
    "    return (abs(edge2),corners[1],corners[2])"
   ]
  },
  {
   "cell_type": "code",
   "execution_count": null,
   "id": "c87b5bed",
   "metadata": {},
   "outputs": [],
   "source": [
    "def get_landing_segment(ballx, table_corners, segments, segment_names):\n",
    "    table_length,left_edge,_ = get_longer_edge(table_corners)\n",
    "    relative_x = (ballx - left_edge[0]) / table_length\n",
    "    print(f\"Relative X Position: {relative_x}\")\n",
    "    for i in range(len(segments)):\n",
    "        if relative_x < segments[i]:\n",
    "            return segment_names[i]\n",
    "    return \"out_of_bounds\""
   ]
  },
  {
   "cell_type": "code",
   "execution_count": 63,
   "id": "e87de12b",
   "metadata": {},
   "outputs": [
    {
     "name": "stdout",
     "output_type": "stream",
     "text": [
      "Relative X Position: 0.16313932980599646\n"
     ]
    },
    {
     "data": {
      "text/plain": [
       "'mid'"
      ]
     },
     "execution_count": 63,
     "metadata": {},
     "output_type": "execute_result"
    }
   ],
   "source": [
    "ballx=488\n",
    "get_landing_segment(ballx, actual_corners, segments, segment_names)"
   ]
  }
 ],
 "metadata": {
  "kernelspec": {
   "display_name": "Python 3",
   "language": "python",
   "name": "python3"
  },
  "language_info": {
   "codemirror_mode": {
    "name": "ipython",
    "version": 3
   },
   "file_extension": ".py",
   "mimetype": "text/x-python",
   "name": "python",
   "nbconvert_exporter": "python",
   "pygments_lexer": "ipython3",
   "version": "3.11.1"
  }
 },
 "nbformat": 4,
 "nbformat_minor": 5
}
